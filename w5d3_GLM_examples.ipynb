{
 "metadata": {
  "name": "",
  "signature": "sha256:5778f445ed7e63440dc6266cb76c07befab3c023d528a25dbddb44e2c0a05271"
 },
 "nbformat": 3,
 "nbformat_minor": 0,
 "worksheets": [
  {
   "cells": [
    {
     "cell_type": "code",
     "collapsed": false,
     "input": [
      "from sklearn import datasets\n",
      "import numpy as np\n",
      "import statsmodels.api as sm\n",
      "from scipy import stats\n",
      "%matplotlib inline\n",
      "from matplotlib import pyplot as plt\n",
      "import pandas as pd\n"
     ],
     "language": "python",
     "metadata": {},
     "outputs": [],
     "prompt_number": 1
    },
    {
     "cell_type": "code",
     "collapsed": false,
     "input": [
      "titanic = sm.datasets.get_rdataset(\"Titanic\")\n",
      "#print titanic.__doc__\n",
      "print titanic.data.shape\n",
      "titanic.data.head()"
     ],
     "language": "python",
     "metadata": {},
     "outputs": [
      {
       "output_type": "stream",
       "stream": "stdout",
       "text": [
        "(32, 5)\n"
       ]
      },
      {
       "html": [
        "<div style=\"max-height:1000px;max-width:1500px;overflow:auto;\">\n",
        "<table border=\"1\" class=\"dataframe\">\n",
        "  <thead>\n",
        "    <tr style=\"text-align: right;\">\n",
        "      <th></th>\n",
        "      <th>Class</th>\n",
        "      <th>Sex</th>\n",
        "      <th>Age</th>\n",
        "      <th>Survived</th>\n",
        "      <th>Freq</th>\n",
        "    </tr>\n",
        "  </thead>\n",
        "  <tbody>\n",
        "    <tr>\n",
        "      <th>0</th>\n",
        "      <td>  1st</td>\n",
        "      <td>   Male</td>\n",
        "      <td> Child</td>\n",
        "      <td> No</td>\n",
        "      <td>  0</td>\n",
        "    </tr>\n",
        "    <tr>\n",
        "      <th>1</th>\n",
        "      <td>  2nd</td>\n",
        "      <td>   Male</td>\n",
        "      <td> Child</td>\n",
        "      <td> No</td>\n",
        "      <td>  0</td>\n",
        "    </tr>\n",
        "    <tr>\n",
        "      <th>2</th>\n",
        "      <td>  3rd</td>\n",
        "      <td>   Male</td>\n",
        "      <td> Child</td>\n",
        "      <td> No</td>\n",
        "      <td> 35</td>\n",
        "    </tr>\n",
        "    <tr>\n",
        "      <th>3</th>\n",
        "      <td> Crew</td>\n",
        "      <td>   Male</td>\n",
        "      <td> Child</td>\n",
        "      <td> No</td>\n",
        "      <td>  0</td>\n",
        "    </tr>\n",
        "    <tr>\n",
        "      <th>4</th>\n",
        "      <td>  1st</td>\n",
        "      <td> Female</td>\n",
        "      <td> Child</td>\n",
        "      <td> No</td>\n",
        "      <td>  0</td>\n",
        "    </tr>\n",
        "  </tbody>\n",
        "</table>\n",
        "</div>"
       ],
       "metadata": {},
       "output_type": "pyout",
       "prompt_number": 2,
       "text": [
        "  Class     Sex    Age Survived  Freq\n",
        "0   1st    Male  Child       No     0\n",
        "1   2nd    Male  Child       No     0\n",
        "2   3rd    Male  Child       No    35\n",
        "3  Crew    Male  Child       No     0\n",
        "4   1st  Female  Child       No     0"
       ]
      }
     ],
     "prompt_number": 2
    },
    {
     "cell_type": "code",
     "collapsed": false,
     "input": [
      "# takes a few seconds\n",
      "unpacked_df = pd.DataFrame()\n",
      "unpacked_columns = ['Class','Sex','Age','Survived']\n",
      "\n",
      "for row_i, row in titanic.data.iterrows():\n",
      "    for duplicated in range(row.Freq):\n",
      "        unpacked_df = unpacked_df.append(row[unpacked_columns])\n"
     ],
     "language": "python",
     "metadata": {},
     "outputs": [],
     "prompt_number": 3
    },
    {
     "cell_type": "code",
     "collapsed": false,
     "input": [
      "print unpacked_df.shape\n",
      "print titanic.data.Freq.sum()\n",
      "unpacked_df.head()"
     ],
     "language": "python",
     "metadata": {},
     "outputs": [
      {
       "output_type": "stream",
       "stream": "stdout",
       "text": [
        "(2201, 4)\n",
        "2201\n"
       ]
      },
      {
       "html": [
        "<div style=\"max-height:1000px;max-width:1500px;overflow:auto;\">\n",
        "<table border=\"1\" class=\"dataframe\">\n",
        "  <thead>\n",
        "    <tr style=\"text-align: right;\">\n",
        "      <th></th>\n",
        "      <th>Age</th>\n",
        "      <th>Class</th>\n",
        "      <th>Sex</th>\n",
        "      <th>Survived</th>\n",
        "    </tr>\n",
        "  </thead>\n",
        "  <tbody>\n",
        "    <tr>\n",
        "      <th>2</th>\n",
        "      <td> Child</td>\n",
        "      <td> 3rd</td>\n",
        "      <td> Male</td>\n",
        "      <td> No</td>\n",
        "    </tr>\n",
        "    <tr>\n",
        "      <th>2</th>\n",
        "      <td> Child</td>\n",
        "      <td> 3rd</td>\n",
        "      <td> Male</td>\n",
        "      <td> No</td>\n",
        "    </tr>\n",
        "    <tr>\n",
        "      <th>2</th>\n",
        "      <td> Child</td>\n",
        "      <td> 3rd</td>\n",
        "      <td> Male</td>\n",
        "      <td> No</td>\n",
        "    </tr>\n",
        "    <tr>\n",
        "      <th>2</th>\n",
        "      <td> Child</td>\n",
        "      <td> 3rd</td>\n",
        "      <td> Male</td>\n",
        "      <td> No</td>\n",
        "    </tr>\n",
        "    <tr>\n",
        "      <th>2</th>\n",
        "      <td> Child</td>\n",
        "      <td> 3rd</td>\n",
        "      <td> Male</td>\n",
        "      <td> No</td>\n",
        "    </tr>\n",
        "  </tbody>\n",
        "</table>\n",
        "</div>"
       ],
       "metadata": {},
       "output_type": "pyout",
       "prompt_number": 6,
       "text": [
        "     Age Class   Sex Survived\n",
        "2  Child   3rd  Male       No\n",
        "2  Child   3rd  Male       No\n",
        "2  Child   3rd  Male       No\n",
        "2  Child   3rd  Male       No\n",
        "2  Child   3rd  Male       No"
       ]
      }
     ],
     "prompt_number": 6
    },
    {
     "cell_type": "code",
     "collapsed": false,
     "input": [
      "#dummify everything\n",
      "dummified_df = pd.get_dummies(unpacked_df[[\"Age\", \"Class\", \"Sex\"]])"
     ],
     "language": "python",
     "metadata": {},
     "outputs": [],
     "prompt_number": 7
    },
    {
     "cell_type": "code",
     "collapsed": false,
     "input": [
      "dummified_df.head()"
     ],
     "language": "python",
     "metadata": {},
     "outputs": [
      {
       "html": [
        "<div style=\"max-height:1000px;max-width:1500px;overflow:auto;\">\n",
        "<table border=\"1\" class=\"dataframe\">\n",
        "  <thead>\n",
        "    <tr style=\"text-align: right;\">\n",
        "      <th></th>\n",
        "      <th>Age_Adult</th>\n",
        "      <th>Age_Child</th>\n",
        "      <th>Class_1st</th>\n",
        "      <th>Class_2nd</th>\n",
        "      <th>Class_3rd</th>\n",
        "      <th>Class_Crew</th>\n",
        "      <th>Sex_Female</th>\n",
        "      <th>Sex_Male</th>\n",
        "    </tr>\n",
        "  </thead>\n",
        "  <tbody>\n",
        "    <tr>\n",
        "      <th>2</th>\n",
        "      <td> 0</td>\n",
        "      <td> 1</td>\n",
        "      <td> 0</td>\n",
        "      <td> 0</td>\n",
        "      <td> 1</td>\n",
        "      <td> 0</td>\n",
        "      <td> 0</td>\n",
        "      <td> 1</td>\n",
        "    </tr>\n",
        "    <tr>\n",
        "      <th>2</th>\n",
        "      <td> 0</td>\n",
        "      <td> 1</td>\n",
        "      <td> 0</td>\n",
        "      <td> 0</td>\n",
        "      <td> 1</td>\n",
        "      <td> 0</td>\n",
        "      <td> 0</td>\n",
        "      <td> 1</td>\n",
        "    </tr>\n",
        "    <tr>\n",
        "      <th>2</th>\n",
        "      <td> 0</td>\n",
        "      <td> 1</td>\n",
        "      <td> 0</td>\n",
        "      <td> 0</td>\n",
        "      <td> 1</td>\n",
        "      <td> 0</td>\n",
        "      <td> 0</td>\n",
        "      <td> 1</td>\n",
        "    </tr>\n",
        "    <tr>\n",
        "      <th>2</th>\n",
        "      <td> 0</td>\n",
        "      <td> 1</td>\n",
        "      <td> 0</td>\n",
        "      <td> 0</td>\n",
        "      <td> 1</td>\n",
        "      <td> 0</td>\n",
        "      <td> 0</td>\n",
        "      <td> 1</td>\n",
        "    </tr>\n",
        "    <tr>\n",
        "      <th>2</th>\n",
        "      <td> 0</td>\n",
        "      <td> 1</td>\n",
        "      <td> 0</td>\n",
        "      <td> 0</td>\n",
        "      <td> 1</td>\n",
        "      <td> 0</td>\n",
        "      <td> 0</td>\n",
        "      <td> 1</td>\n",
        "    </tr>\n",
        "  </tbody>\n",
        "</table>\n",
        "</div>"
       ],
       "metadata": {},
       "output_type": "pyout",
       "prompt_number": 8,
       "text": [
        "   Age_Adult  Age_Child  Class_1st  Class_2nd  Class_3rd  Class_Crew  \\\n",
        "2          0          1          0          0          1           0   \n",
        "2          0          1          0          0          1           0   \n",
        "2          0          1          0          0          1           0   \n",
        "2          0          1          0          0          1           0   \n",
        "2          0          1          0          0          1           0   \n",
        "\n",
        "   Sex_Female  Sex_Male  \n",
        "2           0         1  \n",
        "2           0         1  \n",
        "2           0         1  \n",
        "2           0         1  \n",
        "2           0         1  "
       ]
      }
     ],
     "prompt_number": 8
    },
    {
     "cell_type": "code",
     "collapsed": false,
     "input": [
      "X = dummified_df[[\"Age_Child\",\"Class_1st\",\"Class_2nd\",\"Class_3rd\",\"Sex_Female\"]]\n",
      "print X.head(), \"\\n\"\n",
      "\n",
      "Y = unpacked_df[\"Survived\"]\n",
      "print Y.head()"
     ],
     "language": "python",
     "metadata": {},
     "outputs": [
      {
       "output_type": "stream",
       "stream": "stdout",
       "text": [
        "   Age_Child  Class_1st  Class_2nd  Class_3rd  Sex_Female\n",
        "2          1          0          0          1           0\n",
        "2          1          0          0          1           0\n",
        "2          1          0          0          1           0\n",
        "2          1          0          0          1           0\n",
        "2          1          0          0          1           0 \n",
        "\n",
        "2    No\n",
        "2    No\n",
        "2    No\n",
        "2    No\n",
        "2    No\n",
        "Name: Survived, dtype: object\n"
       ]
      }
     ],
     "prompt_number": 9
    },
    {
     "cell_type": "code",
     "collapsed": false,
     "input": [
      "## Logistic Regression with sklearn\n",
      "from sklearn.linear_model import LogisticRegression\n",
      "sk_logistic = LogisticRegression(penalty=\"l1\", C=1e180).fit(X, Y) \n",
      "print sk_logistic.coef_\n",
      "print sk_logistic.intercept_"
     ],
     "language": "python",
     "metadata": {},
     "outputs": [
      {
       "output_type": "stream",
       "stream": "stdout",
       "text": [
        "[[ 1.06161569  0.85752259 -0.16058642 -0.92026308  2.42012694]]\n",
        "[-1.23382282]\n"
       ]
      }
     ],
     "prompt_number": 10
    },
    {
     "cell_type": "code",
     "collapsed": false,
     "input": [
      "## Logistic Regression with statsmodels\n",
      "bin_Y = Y.replace(\"No\", 0).replace(\"Yes\", 1)\n",
      "sm_X = sm.add_constant(X)\n",
      "sm_logit = sm.Logit(bin_Y, sm_X)\n",
      " \n",
      "# fit the model\n",
      "sm_logit_result = sm_logit.fit()\n",
      "print sm_logit_result.summary()"
     ],
     "language": "python",
     "metadata": {},
     "outputs": [
      {
       "output_type": "stream",
       "stream": "stdout",
       "text": [
        "Optimization terminated successfully.\n",
        "         Current function value: 0.502058\n",
        "         Iterations 6\n",
        "                           Logit Regression Results                           \n",
        "==============================================================================\n",
        "Dep. Variable:               Survived   No. Observations:                 2201\n",
        "Model:                          Logit   Df Residuals:                     2195\n",
        "Method:                           MLE   Df Model:                            5\n",
        "Date:                Tue, 10 Feb 2015   Pseudo R-squ.:                  0.2020\n",
        "Time:                        23:30:09   Log-Likelihood:                -1105.0\n",
        "converged:                       True   LL-Null:                       -1384.7\n",
        "                                        LLR p-value:                1.195e-118\n",
        "==============================================================================\n",
        "                 coef    std err          z      P>|z|      [95.0% Conf. Int.]\n",
        "------------------------------------------------------------------------------\n",
        "const         -1.2339      0.080    -15.329      0.000        -1.392    -1.076\n",
        "Age_Child      1.0615      0.244      4.350      0.000         0.583     1.540\n",
        "Class_1st      0.8577      0.157      5.451      0.000         0.549     1.166\n",
        "Class_2nd     -0.1604      0.174     -0.923      0.356        -0.501     0.180\n",
        "Class_3rd     -0.9201      0.149     -6.192      0.000        -1.211    -0.629\n",
        "Sex_Female     2.4201      0.140     17.236      0.000         2.145     2.695\n",
        "==============================================================================\n"
       ]
      }
     ],
     "prompt_number": 11
    },
    {
     "cell_type": "code",
     "collapsed": false,
     "input": [
      "## Logistic Regression with statsmodels glm\n",
      "\n",
      "# for Binomial family, link is logit by default\n",
      "glm_logit = sm.GLM(bin_Y, sm_X, family=sm.families.Binomial(sm.families.links.logit))\n",
      "glm_logit_results = glm_logit.fit()\n",
      "\n",
      "print glm_logit_results.summary()\n",
      "\n",
      "#print 'Parameters: ', glm_logit_results.params\n",
      "#print 'T-values: ', glm_logit_results.tvalues"
     ],
     "language": "python",
     "metadata": {},
     "outputs": [
      {
       "output_type": "stream",
       "stream": "stdout",
       "text": [
        "                 Generalized Linear Model Regression Results                  \n",
        "==============================================================================\n",
        "Dep. Variable:               Survived   No. Observations:                 2201\n",
        "Model:                            GLM   Df Residuals:                     2195\n",
        "Model Family:                Binomial   Df Model:                            5\n",
        "Link Function:                  logit   Scale:                             1.0\n",
        "Method:                          IRLS   Log-Likelihood:                -1105.0\n",
        "Date:                Wed, 11 Feb 2015   Deviance:                       2210.1\n",
        "Time:                        01:37:45   Pearson chi2:                 2.25e+03\n",
        "No. Iterations:                     7                                         \n",
        "==============================================================================\n",
        "                 coef    std err          z      P>|z|      [95.0% Conf. Int.]\n",
        "------------------------------------------------------------------------------\n",
        "const         -1.2339      0.080    -15.329      0.000        -1.392    -1.076\n",
        "Age_Child      1.0615      0.244      4.350      0.000         0.583     1.540\n",
        "Class_1st      0.8577      0.157      5.451      0.000         0.549     1.166\n",
        "Class_2nd     -0.1604      0.174     -0.923      0.356        -0.501     0.180\n",
        "Class_3rd     -0.9201      0.149     -6.192      0.000        -1.211    -0.629\n",
        "Sex_Female     2.4201      0.140     17.236      0.000         2.145     2.695\n",
        "==============================================================================\n"
       ]
      }
     ],
     "prompt_number": 39
    }
   ],
   "metadata": {}
  }
 ]
}